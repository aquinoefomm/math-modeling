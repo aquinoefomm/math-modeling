{
 "cells": [
  {
   "cell_type": "markdown",
   "id": "12a814c3-ac5c-4239-aa72-1ff261b87d03",
   "metadata": {},
   "source": [
    "# Equações Diferenciais de 1a. Ordem\n",
    "## Método de Runge-Kutta"
   ]
  },
  {
   "cell_type": "code",
   "execution_count": 2,
   "id": "b9cacf8a-e6d3-45ec-8ac3-557f1ff7d975",
   "metadata": {},
   "outputs": [
    {
     "name": "stdout",
     "output_type": "stream",
     "text": [
      "7.386793724160116\n"
     ]
    }
   ],
   "source": [
    "from __future__ import division  \n",
    "import numpy as np  \n",
    "from numpy import linalg  \n",
    "import matplotlib.pyplot as plt\n",
    " \n",
    "# Programa em Python para implementar o método de Runge-Kutta \n",
    "# Definição da equação diferencial ordinária de primeira ordem\n",
    "def dydx(x, y): \n",
    "    return (2*y) \n",
    "     \n",
    "# Encontra o valor de y, dado x, utilizando um intervalo h \n",
    "# Considera os valores iniciais como x0 e y0\n",
    "def rungeKutta(x0, y0, x, h): \n",
    "    # Contagem do número de iterações utilizando o tamanho do passo \n",
    "    # Representado pelo parâmetro h\n",
    "    n = (int)((x - x0)/h)  \n",
    "    # Realização da iteração para um número predeterminado \n",
    "    y = y0 \n",
    "    for i in range(1, n + 1): \n",
    "    # \"Aplicação das fórmulas de Runge-Kutta para encontrar o valor seguinte de y\"\n",
    "        k1 = h * dydx(x0, y) \n",
    "        k2 = h * dydx(x0 + 0.5 * h, y + 0.5 * k1) \n",
    "        k3 = h * dydx(x0 + 0.5 * h, y + 0.5 * k2) \n",
    "        k4 = h * dydx(x0 + h, y + k3) \n",
    "     \n",
    "        # Atualização do valor seguinte de y \n",
    "        y = y + (1.0 / 6.0)*(k1 + 2 * k2 + 2 * k3 + k4) \n",
    "    \n",
    "        # Atualização do valor seguinte de x \n",
    "        x0 = x0 + h \n",
    "    return y \n",
    "     \n",
    "# Programa principal\n",
    "x0 = 0\n",
    "y = 1\n",
    "x = 1\n",
    "h = 0.2\n",
    "print (rungeKutta(x0, y, x, h)) "
   ]
  },
  {
   "cell_type": "code",
   "execution_count": null,
   "id": "2ce2890f-8fe1-47e0-9095-0f4343aa0ee9",
   "metadata": {},
   "outputs": [],
   "source": []
  }
 ],
 "metadata": {
  "kernelspec": {
   "display_name": "Python 3 (ipykernel)",
   "language": "python",
   "name": "python3"
  },
  "language_info": {
   "codemirror_mode": {
    "name": "ipython",
    "version": 3
   },
   "file_extension": ".py",
   "mimetype": "text/x-python",
   "name": "python",
   "nbconvert_exporter": "python",
   "pygments_lexer": "ipython3",
   "version": "3.11.5"
  }
 },
 "nbformat": 4,
 "nbformat_minor": 5
}
