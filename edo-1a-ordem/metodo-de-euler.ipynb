{
 "cells": [
  {
   "cell_type": "markdown",
   "id": "629ef0f9-c7b7-458d-94b0-2a9a967dfa6a",
   "metadata": {},
   "source": [
    "# Equações Diferenciais de 1a. Ordem\n",
    "## Método de Euler"
   ]
  },
  {
   "cell_type": "code",
   "execution_count": 13,
   "id": "6919fa99-341a-49fd-b1e8-2b1f2b82c1ad",
   "metadata": {},
   "outputs": [],
   "source": [
    "from __future__ import division \n",
    "import numpy as np\n",
    "from numpy import linalg\n",
    "import matplotlib.pyplot as plt"
   ]
  },
  {
   "cell_type": "code",
   "execution_count": 14,
   "id": "135b8232-480b-4106-996c-3f8cfbdd0a13",
   "metadata": {},
   "outputs": [],
   "source": [
    "def f(t, u):\n",
    "    return 2 * u"
   ]
  },
  {
   "cell_type": "code",
   "execution_count": 15,
   "id": "b5739222-78c1-4ac6-a99e-bcf8c6a4fa54",
   "metadata": {},
   "outputs": [],
   "source": [
    "#tamanho e num. de passos  \n",
    "h = 0.2  \n",
    "N = 6  "
   ]
  },
  {
   "cell_type": "code",
   "execution_count": 16,
   "id": "bb1a2019-74b4-4970-9431-be953ef9152e",
   "metadata": {},
   "outputs": [],
   "source": [
    "#cria vetor t e u  \n",
    "t = np.empty(N)  \n",
    "u = np.copy(t) "
   ]
  },
  {
   "cell_type": "code",
   "execution_count": 17,
   "id": "6cf6fe59-d029-4aa3-85e5-92b1676c3f0f",
   "metadata": {},
   "outputs": [],
   "source": [
    "#C.I.  \n",
    "t[0] = 0  \n",
    "u[0] = 1 "
   ]
  },
  {
   "cell_type": "code",
   "execution_count": 18,
   "id": "6ec7918d-44dd-49fc-b3ce-796cae388bab",
   "metadata": {},
   "outputs": [],
   "source": [
    "#iteracoes  \n",
    "for i in np.arange(N-1):  \n",
    "    t[i+1] = t[i] + h  \n",
    "    u[i+1] = u[i] + h*f(t[i],u[i])  "
   ]
  },
  {
   "cell_type": "code",
   "execution_count": 19,
   "id": "ded9d2c2-564e-46ca-abc2-6420f4b8c722",
   "metadata": {},
   "outputs": [
    {
     "name": "stdout",
     "output_type": "stream",
     "text": [
      "％1.1f ％1.4f (0.0, 1.0)\n",
      "％1.1f ％1.4f (0.2, 1.4)\n",
      "％1.1f ％1.4f (0.4, 1.96)\n",
      "％1.1f ％1.4f (0.6000000000000001, 2.7439999999999998)\n",
      "％1.1f ％1.4f (0.8, 3.8415999999999997)\n",
      "％1.1f ％1.4f (1.0, 5.37824)\n"
     ]
    }
   ],
   "source": [
    "#imprime  \n",
    "for i,tt in enumerate(t):  \n",
    "    print(\"％1.1f ％1.4f\", (t[i],u[i]))"
   ]
  },
  {
   "cell_type": "code",
   "execution_count": null,
   "id": "26d3e56b-d1e8-41e2-a4d7-0c70b4426c13",
   "metadata": {},
   "outputs": [],
   "source": []
  }
 ],
 "metadata": {
  "kernelspec": {
   "display_name": "Python 3 (ipykernel)",
   "language": "python",
   "name": "python3"
  },
  "language_info": {
   "codemirror_mode": {
    "name": "ipython",
    "version": 3
   },
   "file_extension": ".py",
   "mimetype": "text/x-python",
   "name": "python",
   "nbconvert_exporter": "python",
   "pygments_lexer": "ipython3",
   "version": "3.11.5"
  }
 },
 "nbformat": 4,
 "nbformat_minor": 5
}
