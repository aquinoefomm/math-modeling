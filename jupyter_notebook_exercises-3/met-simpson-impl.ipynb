{
 "cells": [
  {
   "cell_type": "markdown",
   "id": "5bcc212d-1d6d-43c9-885d-b2ca3326fd67",
   "metadata": {},
   "source": [
    "# Cálculo de Integral - Método de Simpson"
   ]
  },
  {
   "cell_type": "code",
   "execution_count": 1,
   "id": "e9d16c63-cec0-464a-b917-c471461ca49f",
   "metadata": {},
   "outputs": [],
   "source": [
    "import numpy as np\n",
    "import math"
   ]
  },
  {
   "cell_type": "code",
   "execution_count": 3,
   "id": "1f600fce-93ef-4d7c-8340-a4a028a11940",
   "metadata": {},
   "outputs": [
    {
     "name": "stdout",
     "output_type": "stream",
     "text": [
      "[2.  2.1 2.2 2.3 2.4 2.5 2.6 2.7 2.8 2.9 3. ]\n"
     ]
    }
   ],
   "source": [
    "f = lambda x: x**2\n",
    "a = 2; b = 3; N = 10\n",
    "\n",
    "x = np.linspace(a, b, N + 1)\n",
    "print(x)"
   ]
  },
  {
   "cell_type": "code",
   "execution_count": 4,
   "id": "05278ccb-da1d-4157-91b0-e21bea4e5f86",
   "metadata": {},
   "outputs": [
    {
     "name": "stdout",
     "output_type": "stream",
     "text": [
      "[4.   4.41 4.84 5.29 5.76 6.25 6.76 7.29 7.84 8.41 9.  ]\n"
     ]
    }
   ],
   "source": [
    "y = f(x)\n",
    "print(y)"
   ]
  },
  {
   "cell_type": "code",
   "execution_count": 10,
   "id": "21fd5317-58cc-4b0c-aeb6-b753c047f703",
   "metadata": {},
   "outputs": [
    {
     "name": "stdout",
     "output_type": "stream",
     "text": [
      "Valor da Integral:  6.333333333333334\n"
     ]
    }
   ],
   "source": [
    "h = (b - a) / N\n",
    "\n",
    "# Fórmula de Simpson:\n",
    "soma_simpson = (h / 3) * (y[0] + 4 * np.sum(y[1:-1:2]) + 2 * np.sum(y[2:-2:2]) + y[-1])\n",
    "\n",
    "print('Valor da Integral: ',soma_simpson)"
   ]
  },
  {
   "cell_type": "code",
   "execution_count": null,
   "id": "09f0896f-a677-4eb0-9f7f-cd837db64dd1",
   "metadata": {},
   "outputs": [],
   "source": []
  }
 ],
 "metadata": {
  "kernelspec": {
   "display_name": "Python 3 (ipykernel)",
   "language": "python",
   "name": "python3"
  },
  "language_info": {
   "codemirror_mode": {
    "name": "ipython",
    "version": 3
   },
   "file_extension": ".py",
   "mimetype": "text/x-python",
   "name": "python",
   "nbconvert_exporter": "python",
   "pygments_lexer": "ipython3",
   "version": "3.11.5"
  }
 },
 "nbformat": 4,
 "nbformat_minor": 5
}
