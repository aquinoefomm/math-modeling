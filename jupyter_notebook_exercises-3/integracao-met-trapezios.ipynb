{
 "cells": [
  {
   "cell_type": "markdown",
   "id": "f1ff7b98-6442-4cc1-8766-9c5a5604fc99",
   "metadata": {},
   "source": [
    "# Integração com Método dos Trapézios"
   ]
  },
  {
   "cell_type": "code",
   "execution_count": 42,
   "id": "f4b2de7a-fdba-4c80-b0b7-cf462b7269ae",
   "metadata": {},
   "outputs": [],
   "source": [
    "import numpy as np\n",
    "import math"
   ]
  },
  {
   "cell_type": "code",
   "execution_count": 43,
   "id": "f8efda40-0648-498b-b8b3-71d5263397c5",
   "metadata": {},
   "outputs": [],
   "source": [
    "f = lambda x: x**2"
   ]
  },
  {
   "cell_type": "code",
   "execution_count": 44,
   "id": "b277c022-e834-4779-8b3a-482e6bc8a95e",
   "metadata": {},
   "outputs": [],
   "source": [
    "a = 2; b = 3; N = 10\n",
    "x = np.linspace(a, b, N + 1)\n",
    "y = f(x)\n",
    "y_maior = y[1:]\n",
    "y_menor = y[:-1]\n",
    "dx = (b - a) / N\n",
    "soma_trapezio = (dx / 2) * np.sum(y_maior + y_menor)"
   ]
  },
  {
   "cell_type": "code",
   "execution_count": 45,
   "id": "ceabb276-3f1a-4dd4-975d-e33e6a979d58",
   "metadata": {},
   "outputs": [
    {
     "name": "stdout",
     "output_type": "stream",
     "text": [
      "Integral:  6.335000000000001\n"
     ]
    }
   ],
   "source": [
    "print('Integral: ', soma_trapezio)"
   ]
  },
  {
   "cell_type": "code",
   "execution_count": 46,
   "id": "f7909d78-86c3-46d5-bd6a-c5d719f3154a",
   "metadata": {},
   "outputs": [],
   "source": [
    "f = lambda x: math.cos(x)"
   ]
  },
  {
   "cell_type": "code",
   "execution_count": 47,
   "id": "1c57afa8-4d5a-4b73-a181-46d583a8acf5",
   "metadata": {},
   "outputs": [
    {
     "ename": "TypeError",
     "evalue": "only length-1 arrays can be converted to Python scalars",
     "output_type": "error",
     "traceback": [
      "\u001b[0;31m---------------------------------------------------------------------------\u001b[0m",
      "\u001b[0;31mTypeError\u001b[0m                                 Traceback (most recent call last)",
      "Cell \u001b[0;32mIn[47], line 3\u001b[0m\n\u001b[1;32m      1\u001b[0m a \u001b[38;5;241m=\u001b[39m \u001b[38;5;241m1\u001b[39m; b \u001b[38;5;241m=\u001b[39m \u001b[38;5;241m2\u001b[39m; N \u001b[38;5;241m=\u001b[39m \u001b[38;5;241m8\u001b[39m\n\u001b[1;32m      2\u001b[0m x \u001b[38;5;241m=\u001b[39m np\u001b[38;5;241m.\u001b[39mlinspace(a, b, N \u001b[38;5;241m+\u001b[39m \u001b[38;5;241m1\u001b[39m)\n\u001b[0;32m----> 3\u001b[0m y \u001b[38;5;241m=\u001b[39m f(x)\n\u001b[1;32m      4\u001b[0m y_maior \u001b[38;5;241m=\u001b[39m y[\u001b[38;5;241m1\u001b[39m:]\n\u001b[1;32m      5\u001b[0m y_menor \u001b[38;5;241m=\u001b[39m y[:\u001b[38;5;241m-\u001b[39m\u001b[38;5;241m1\u001b[39m]\n",
      "Cell \u001b[0;32mIn[46], line 1\u001b[0m, in \u001b[0;36m<lambda>\u001b[0;34m(x)\u001b[0m\n\u001b[0;32m----> 1\u001b[0m f \u001b[38;5;241m=\u001b[39m \u001b[38;5;28;01mlambda\u001b[39;00m x: math\u001b[38;5;241m.\u001b[39mcos(x)\n",
      "\u001b[0;31mTypeError\u001b[0m: only length-1 arrays can be converted to Python scalars"
     ]
    }
   ],
   "source": []
  },
  {
   "cell_type": "code",
   "execution_count": null,
   "id": "7e4299fe-f134-4621-9fae-c109471c80fd",
   "metadata": {},
   "outputs": [],
   "source": [
    "print('Integral: ', soma_trapezio)"
   ]
  },
  {
   "cell_type": "code",
   "execution_count": null,
   "id": "fffe143d-4611-4bc6-ae40-fa239d7143c1",
   "metadata": {},
   "outputs": [],
   "source": []
  }
 ],
 "metadata": {
  "kernelspec": {
   "display_name": "Python 3 (ipykernel)",
   "language": "python",
   "name": "python3"
  },
  "language_info": {
   "codemirror_mode": {
    "name": "ipython",
    "version": 3
   },
   "file_extension": ".py",
   "mimetype": "text/x-python",
   "name": "python",
   "nbconvert_exporter": "python",
   "pygments_lexer": "ipython3",
   "version": "3.11.5"
  }
 },
 "nbformat": 4,
 "nbformat_minor": 5
}
