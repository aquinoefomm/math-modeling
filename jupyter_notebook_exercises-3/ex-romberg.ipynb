{
 "cells": [
  {
   "cell_type": "code",
   "execution_count": 1,
   "id": "8f4cf996-188a-406a-97c8-9c4879348031",
   "metadata": {},
   "outputs": [],
   "source": [
    "import scipy as sp\n",
    "from scipy import integrate\n",
    "import numpy as np"
   ]
  },
  {
   "cell_type": "code",
   "execution_count": 4,
   "id": "7ddc9406-cd3a-4172-b027-6737ca88bb7a",
   "metadata": {},
   "outputs": [
    {
     "name": "stdout",
     "output_type": "stream",
     "text": [
      "Romberg integration of <function vectorize1.<locals>.vfunc at 0x117b1da80> from [0, 1]\n",
      "\n",
      " Steps  StepSize   Results\n",
      "     1  1.000000  0.770151 \n",
      "     2  0.500000  0.823867  0.841772 \n",
      "     4  0.250000  0.837084  0.841489  0.841471 \n",
      "     8  0.125000  0.840375  0.841472  0.841471  0.841471 \n",
      "    16  0.062500  0.841197  0.841471  0.841471  0.841471  0.841471 \n",
      "\n",
      "The final result is 0.841470984807879 after 17 function evaluations.\n"
     ]
    }
   ],
   "source": [
    "f = lambda x: np.cos(x)\n",
    "\n",
    "result = integrate.romberg(f, 0, 1, show=True)"
   ]
  },
  {
   "cell_type": "code",
   "execution_count": 5,
   "id": "0e2fb2e5-a9e2-4e1e-9032-65ba250680e9",
   "metadata": {},
   "outputs": [
    {
     "name": "stdout",
     "output_type": "stream",
     "text": [
      "Romberg integration of <function vectorize1.<locals>.vfunc at 0x117b1ede0> from [0, 1]\n",
      "\n",
      " Steps  StepSize   Results\n",
      "     1  1.000000  0.420735 \n",
      "     2  0.500000  0.450081  0.459862 \n",
      "     4  0.250000  0.457301  0.459708  0.459697 \n",
      "     8  0.125000  0.459099  0.459698  0.459698  0.459698 \n",
      "    16  0.062500  0.459548  0.459698  0.459698  0.459698  0.459698 \n",
      "\n",
      "The final result is 0.45969769413185085 after 17 function evaluations.\n"
     ]
    }
   ],
   "source": [
    "f = lambda x: np.sin(x)\n",
    "\n",
    "result = integrate.romberg(f, 0, 1, show=True)"
   ]
  },
  {
   "cell_type": "code",
   "execution_count": null,
   "id": "4f405c7e-b902-4b78-8f91-5923006b7a96",
   "metadata": {},
   "outputs": [],
   "source": []
  }
 ],
 "metadata": {
  "kernelspec": {
   "display_name": "Python 3 (ipykernel)",
   "language": "python",
   "name": "python3"
  },
  "language_info": {
   "codemirror_mode": {
    "name": "ipython",
    "version": 3
   },
   "file_extension": ".py",
   "mimetype": "text/x-python",
   "name": "python",
   "nbconvert_exporter": "python",
   "pygments_lexer": "ipython3",
   "version": "3.11.5"
  }
 },
 "nbformat": 4,
 "nbformat_minor": 5
}
