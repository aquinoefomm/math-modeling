{
 "cells": [
  {
   "cell_type": "markdown",
   "id": "533b3f9f-1e65-485d-9f1e-d37f3bd605bb",
   "metadata": {},
   "source": [
    "# Integração Numérica com Método dos Retângulos"
   ]
  },
  {
   "cell_type": "code",
   "execution_count": 2,
   "id": "8e1094ad-b89a-4893-be1b-467aeba38b44",
   "metadata": {},
   "outputs": [],
   "source": [
    "import numpy as np\n",
    "import math"
   ]
  },
  {
   "cell_type": "code",
   "execution_count": 3,
   "id": "e211d9db-d3be-4194-ab12-04f50b905c41",
   "metadata": {},
   "outputs": [],
   "source": [
    "f = lambda x : x**2"
   ]
  },
  {
   "cell_type": "code",
   "execution_count": 14,
   "id": "37544cfa-96ca-40ce-8315-a67c46278cf5",
   "metadata": {},
   "outputs": [],
   "source": [
    "a = 2; b = 3; N = 5\n",
    "x = np.linspace(a, b, N + 1)\n",
    "y = f(x)\n",
    "h = (b - a) / N\n",
    "x_medio = np.linspace(a + h / 2, b - h / 2, N)\n",
    "soma_retangulo = np.sum(f(x_medio) * h)"
   ]
  },
  {
   "cell_type": "code",
   "execution_count": 15,
   "id": "2249add9-4582-4424-8a65-2d67ff00f3fa",
   "metadata": {},
   "outputs": [
    {
     "name": "stdout",
     "output_type": "stream",
     "text": [
      "Integral:  6.33\n"
     ]
    }
   ],
   "source": [
    "print('Integral: ', soma_retangulo)"
   ]
  },
  {
   "cell_type": "code",
   "execution_count": null,
   "id": "6780fc1f-23fe-4467-9b39-9c147aa7fe75",
   "metadata": {},
   "outputs": [],
   "source": []
  }
 ],
 "metadata": {
  "kernelspec": {
   "display_name": "Python 3 (ipykernel)",
   "language": "python",
   "name": "python3"
  },
  "language_info": {
   "codemirror_mode": {
    "name": "ipython",
    "version": 3
   },
   "file_extension": ".py",
   "mimetype": "text/x-python",
   "name": "python",
   "nbconvert_exporter": "python",
   "pygments_lexer": "ipython3",
   "version": "3.11.5"
  }
 },
 "nbformat": 4,
 "nbformat_minor": 5
}
