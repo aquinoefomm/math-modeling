{
 "cells": [
  {
   "cell_type": "markdown",
   "id": "4c7db912-f6c6-436a-94af-0941ab635b2b",
   "metadata": {},
   "source": [
    "# Integral com Método de Romberg"
   ]
  },
  {
   "cell_type": "code",
   "execution_count": 7,
   "id": "19633c30-9cb4-497b-b7d3-127c550d7537",
   "metadata": {},
   "outputs": [],
   "source": [
    "import scipy as sp\n",
    "from scipy import integrate\n",
    "import numpy as np"
   ]
  },
  {
   "cell_type": "code",
   "execution_count": 8,
   "id": "4db80a1f-dedb-46fd-a147-b3009449a32c",
   "metadata": {},
   "outputs": [
    {
     "name": "stdout",
     "output_type": "stream",
     "text": [
      "Romberg integration of <function vectorize1.<locals>.vfunc at 0x122e08360> from [1, 2]\n",
      "\n",
      " Steps  StepSize   Results\n",
      "     1  1.000000  0.251607 \n",
      "     2  0.500000  0.237369  0.232623 \n",
      "     4  0.250000  0.233754  0.232549  0.232544 \n",
      "     8  0.125000  0.232847  0.232544  0.232544  0.232544 \n",
      "    16  0.062500  0.232620  0.232544  0.232544  0.232544  0.232544 \n",
      "\n",
      "The final result is 0.2325441579348341 after 17 function evaluations.\n"
     ]
    }
   ],
   "source": [
    "# função de \"euler\" elevado a -x:\n",
    "f = lambda x: np.exp(-x)\n",
    "# aplicação da função integrate no intervalo de integração [1,2]:\n",
    "result = integrate.romberg(f, 1, 2, show=True)"
   ]
  },
  {
   "cell_type": "code",
   "execution_count": 9,
   "id": "d3f5ecc1-89f6-4659-a915-53186368898e",
   "metadata": {},
   "outputs": [
    {
     "name": "stdout",
     "output_type": "stream",
     "text": [
      "Romberg integration of <function vectorize1.<locals>.vfunc at 0x122e08540> from [1, 2]\n",
      "\n",
      " Steps  StepSize   Results\n",
      "     1  1.000000  0.875384 \n",
      "     2  0.500000  0.936440  0.956791 \n",
      "     4  0.250000  0.951462  0.956470  0.956449 \n",
      "     8  0.125000  0.955203  0.956450  0.956449  0.956449 \n",
      "    16  0.062500  0.956138  0.956449  0.956449  0.956449  0.956449 \n",
      "\n",
      "The final result is 0.9564491424152621 after 17 function evaluations.\n"
     ]
    }
   ],
   "source": [
    "f = lambda x:np.sin(x)\n",
    "# aplicação da função integrate no intervalo de integração [1,2]:\n",
    "result = integrate.romberg(f, 1, 2, show=True)"
   ]
  },
  {
   "cell_type": "code",
   "execution_count": 10,
   "id": "0bba7cf9-051b-47e1-8fff-70b583e0bcda",
   "metadata": {},
   "outputs": [
    {
     "name": "stdout",
     "output_type": "stream",
     "text": [
      "Romberg integration of <function vectorize1.<locals>.vfunc at 0x122e08540> from [1, 2]\n",
      "\n",
      " Steps  StepSize   Results\n",
      "     1  1.000000  0.062078 \n",
      "     2  0.500000  0.066407  0.067851 \n",
      "     4  0.250000  0.067473  0.067828  0.067826 \n",
      "     8  0.125000  0.067738  0.067827  0.067826  0.067826 \n",
      "    16  0.062500  0.067804  0.067826  0.067826  0.067826  0.067826 \n",
      "\n",
      "The final result is 0.06782644201778379 after 17 function evaluations.\n"
     ]
    }
   ],
   "source": [
    "f = lambda x:np.cos(x)\n",
    "# aplicação da função integrate no intervalo de integração [1,2]:\n",
    "result = integrate.romberg(f, 1, 2, show=True)"
   ]
  },
  {
   "cell_type": "code",
   "execution_count": 11,
   "id": "f3aa0688-dc2b-46ad-af2e-1d1c8228734e",
   "metadata": {},
   "outputs": [
    {
     "name": "stdout",
     "output_type": "stream",
     "text": [
      "Romberg integration of <function vectorize1.<locals>.vfunc at 0x122e08b80> from [1, 2]\n",
      "\n",
      " Steps  StepSize   Results\n",
      "     1  1.000000  0.937462 \n",
      "     2  0.500000  1.002847  1.024642 \n",
      "     4  0.250000  1.018935  1.024298  1.024275 \n",
      "     8  0.125000  1.022942  1.024277  1.024276  1.024276 \n",
      "    16  0.062500  1.023942  1.024276  1.024276  1.024276  1.024276 \n",
      "\n",
      "The final result is 1.0242755844330462 after 17 function evaluations.\n"
     ]
    }
   ],
   "source": [
    "f = lambda x: np.sin(x) + np.cos(x)\n",
    "# aplicação da função integrate no intervalo de integração [1,2]:\n",
    "result = integrate.romberg(f, 1, 2, show=True)"
   ]
  },
  {
   "cell_type": "code",
   "execution_count": null,
   "id": "8f8012ae-79f7-488b-b8b3-54c49ac88d90",
   "metadata": {},
   "outputs": [],
   "source": []
  }
 ],
 "metadata": {
  "kernelspec": {
   "display_name": "Python 3 (ipykernel)",
   "language": "python",
   "name": "python3"
  },
  "language_info": {
   "codemirror_mode": {
    "name": "ipython",
    "version": 3
   },
   "file_extension": ".py",
   "mimetype": "text/x-python",
   "name": "python",
   "nbconvert_exporter": "python",
   "pygments_lexer": "ipython3",
   "version": "3.11.5"
  }
 },
 "nbformat": 4,
 "nbformat_minor": 5
}
