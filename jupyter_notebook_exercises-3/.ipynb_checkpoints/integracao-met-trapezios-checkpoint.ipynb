{
 "cells": [
  {
   "cell_type": "markdown",
   "id": "f1ff7b98-6442-4cc1-8766-9c5a5604fc99",
   "metadata": {},
   "source": [
    "# Integração com Método dos Trapézios"
   ]
  },
  {
   "cell_type": "code",
   "execution_count": 8,
   "id": "f4b2de7a-fdba-4c80-b0b7-cf462b7269ae",
   "metadata": {},
   "outputs": [],
   "source": [
    "import numpy as np\n",
    "import math"
   ]
  },
  {
   "cell_type": "code",
   "execution_count": 9,
   "id": "f8efda40-0648-498b-b8b3-71d5263397c5",
   "metadata": {},
   "outputs": [],
   "source": [
    "f = lambda x: x**2"
   ]
  },
  {
   "cell_type": "code",
   "execution_count": 10,
   "id": "b277c022-e834-4779-8b3a-482e6bc8a95e",
   "metadata": {},
   "outputs": [],
   "source": [
    "a = 2; b = 3; N = 5\n",
    "x = np.linspace(a, b, N + 1)\n",
    "y = f(x)\n",
    "y_maior = y[1:]\n",
    "y_menor = y[:-1]\n",
    "dx = (b - a) / N\n",
    "soma_trapezio = (dx / 2) * np.sum(y_maior + y_menor)"
   ]
  },
  {
   "cell_type": "code",
   "execution_count": 11,
   "id": "ceabb276-3f1a-4dd4-975d-e33e6a979d58",
   "metadata": {},
   "outputs": [
    {
     "name": "stdout",
     "output_type": "stream",
     "text": [
      "Integral:  6.340000000000001\n"
     ]
    }
   ],
   "source": [
    "print('Integral: ', soma_trapezio)"
   ]
  },
  {
   "cell_type": "code",
   "execution_count": null,
   "id": "f7909d78-86c3-46d5-bd6a-c5d719f3154a",
   "metadata": {},
   "outputs": [],
   "source": []
  }
 ],
 "metadata": {
  "kernelspec": {
   "display_name": "Python 3 (ipykernel)",
   "language": "python",
   "name": "python3"
  },
  "language_info": {
   "codemirror_mode": {
    "name": "ipython",
    "version": 3
   },
   "file_extension": ".py",
   "mimetype": "text/x-python",
   "name": "python",
   "nbconvert_exporter": "python",
   "pygments_lexer": "ipython3",
   "version": "3.11.5"
  }
 },
 "nbformat": 4,
 "nbformat_minor": 5
}
