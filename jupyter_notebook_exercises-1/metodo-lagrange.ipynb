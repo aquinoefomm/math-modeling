{
 "cells": [
  {
   "cell_type": "markdown",
   "id": "f7be8e8e-24f3-478d-96cd-e041b466dcdd",
   "metadata": {},
   "source": [
    "# Método Lagrange"
   ]
  },
  {
   "cell_type": "code",
   "execution_count": 1,
   "id": "8439103c-b77a-4ff7-81b8-41e64458d894",
   "metadata": {},
   "outputs": [],
   "source": [
    "import pandas as pd\n",
    "import numpy as np\n",
    "import numpy.polynomial.polynomial as poly"
   ]
  },
  {
   "cell_type": "code",
   "execution_count": 2,
   "id": "2b9b1487-a843-4c2f-8bb7-3d1007d0958c",
   "metadata": {},
   "outputs": [],
   "source": [
    "def lagrange_ln(x,y):\n",
    "    n = len(x) # Grau do polinômio\n",
    "    l = np.zeros(n)\n",
    "    L = np.zeros((n,n))\n",
    "    for m in range(n):\n",
    "        P = [1]\n",
    "        for k in range(n):\n",
    "            if k != m:\n",
    "                P = poly.polymul(P, [-x[k],1])/(x[m] - x[k])\n",
    "        L[m,:] = P\n",
    "        l += y[m]*P\n",
    "    return l, L"
   ]
  },
  {
   "cell_type": "code",
   "execution_count": 7,
   "id": "e4f5400d-f5fe-4da3-b8c6-07705422ff6a",
   "metadata": {},
   "outputs": [
    {
     "name": "stdout",
     "output_type": "stream",
     "text": [
      "l_2 =  [ 8. -6.  1.]\n",
      "L = \n",
      "      0         1         2\n",
      "0 -0.0 -0.750000  0.250000\n",
      "1  1.0  0.666667 -0.333333\n",
      "2  0.0  0.083333  0.083333\n"
     ]
    }
   ],
   "source": [
    "x = [-1, 0, 3]\n",
    "y = [15, 8, -1]\n",
    "l, L = lagrange_ln(x,y)\n",
    "\n",
    "tabela = pd.DataFrame(L)\n",
    "print('l_2 = ', l)\n",
    "print('L = \\n', tabela)"
   ]
  },
  {
   "cell_type": "code",
   "execution_count": null,
   "id": "8f7df37b-6dd6-404f-bbaf-ff116540ebea",
   "metadata": {},
   "outputs": [],
   "source": []
  }
 ],
 "metadata": {
  "kernelspec": {
   "display_name": "Python 3 (ipykernel)",
   "language": "python",
   "name": "python3"
  },
  "language_info": {
   "codemirror_mode": {
    "name": "ipython",
    "version": 3
   },
   "file_extension": ".py",
   "mimetype": "text/x-python",
   "name": "python",
   "nbconvert_exporter": "python",
   "pygments_lexer": "ipython3",
   "version": "3.11.5"
  }
 },
 "nbformat": 4,
 "nbformat_minor": 5
}
