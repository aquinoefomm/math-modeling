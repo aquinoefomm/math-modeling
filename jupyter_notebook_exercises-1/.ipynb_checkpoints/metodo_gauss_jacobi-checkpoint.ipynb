{
 "cells": [
  {
   "cell_type": "markdown",
   "id": "51a046d7-c17d-4b35-9c75-eacf037de904",
   "metadata": {},
   "source": [
    "# Método Gauss-Jacobi"
   ]
  },
  {
   "cell_type": "code",
   "execution_count": 1,
   "id": "c2aff1d2-9177-4742-b688-4bbf2a495d9e",
   "metadata": {},
   "outputs": [],
   "source": [
    "import numpy as np"
   ]
  },
  {
   "cell_type": "code",
   "execution_count": 2,
   "id": "0afbafb6-c7e7-4ca4-abc4-6f23e46437a0",
   "metadata": {},
   "outputs": [],
   "source": [
    "def sol_jacobi(A, b, x0, kmax=100):\n",
    "    d = np.diag(A)\n",
    "    for k in range(kmax):\n",
    "        r = b - A@x0\n",
    "        h = r/d\n",
    "        if np.linalg.norm(h) < 1e-16 + 1e-16*np.linalg.norm(x0):\n",
    "            return x0\n",
    "        x0 += h\n",
    "    return x0"
   ]
  },
  {
   "cell_type": "code",
   "execution_count": 4,
   "id": "4fc078e1-f2dc-4331-a3fd-e81da70be978",
   "metadata": {},
   "outputs": [
    {
     "name": "stdout",
     "output_type": "stream",
     "text": [
      "[ 0.9994 -1.9888  0.9984]\n"
     ]
    }
   ],
   "source": [
    "A = np.array([\n",
    "    [10,2,1],\n",
    "    [1,5,1],\n",
    "    [2,3,10]\n",
    "])\n",
    "b = np.array([7,-8,6])\n",
    "x0 = np.array([0.7, -1.6, 0.6])\n",
    "kmax=3\n",
    "x = sol_jacobi(A, b, x0, kmax)\n",
    "print(x)"
   ]
  },
  {
   "cell_type": "code",
   "execution_count": null,
   "id": "1d4dc225-b0ba-48aa-9825-4781353b12a5",
   "metadata": {},
   "outputs": [],
   "source": []
  }
 ],
 "metadata": {
  "kernelspec": {
   "display_name": "Python 3 (ipykernel)",
   "language": "python",
   "name": "python3"
  },
  "language_info": {
   "codemirror_mode": {
    "name": "ipython",
    "version": 3
   },
   "file_extension": ".py",
   "mimetype": "text/x-python",
   "name": "python",
   "nbconvert_exporter": "python",
   "pygments_lexer": "ipython3",
   "version": "3.11.5"
  }
 },
 "nbformat": 4,
 "nbformat_minor": 5
}
