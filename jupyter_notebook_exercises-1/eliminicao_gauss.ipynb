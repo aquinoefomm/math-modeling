{
 "cells": [
  {
   "cell_type": "markdown",
   "id": "19136d50-c99b-43ed-82c8-09ce5fd52e2e",
   "metadata": {},
   "source": [
    "# Exemplo de Eliminação de Gauss"
   ]
  },
  {
   "cell_type": "code",
   "execution_count": 38,
   "id": "4e889dc5-93da-4de9-8b29-15425802672a",
   "metadata": {},
   "outputs": [],
   "source": [
    "import numpy as np"
   ]
  },
  {
   "cell_type": "code",
   "execution_count": 39,
   "id": "4655589e-c554-4650-bb8f-940cb46c897b",
   "metadata": {},
   "outputs": [
    {
     "name": "stdout",
     "output_type": "stream",
     "text": [
      "Matriz concatenada: \n",
      " [[   7    1    3    1  -40]\n",
      " [  35   -2   14    8 -225]\n",
      " [  35  -30    6   27 -259]\n",
      " [  28  -38   -2   39 -160]]\n"
     ]
    }
   ],
   "source": [
    "A = np.array([\n",
    "    [7, 1, 3, 1],\n",
    "    [35, -2, 14, 8],\n",
    "    [35, -30, 6, 27],\n",
    "    [28, -38, -2, 39]\n",
    "])\n",
    "\n",
    "b = np.array([\n",
    "    [-40],\n",
    "    [-225],\n",
    "    [-259],\n",
    "    [-160]\n",
    "])\n",
    "\n",
    "A = np.concatenate((A, b), axis = 1)\n",
    "\n",
    "print('Matriz concatenada: \\n', A)\n"
   ]
  },
  {
   "cell_type": "code",
   "execution_count": 40,
   "id": "33104543-3f3d-4dc2-ad10-2363c59eead6",
   "metadata": {},
   "outputs": [
    {
     "name": "stdout",
     "output_type": "stream",
     "text": [
      "[[   7    1    3    1  -40]\n",
      " [   0   -7   -1    3  -25]\n",
      " [  35  -30    6   27 -259]\n",
      " [  28  -38   -2   39 -160]]\n"
     ]
    }
   ],
   "source": [
    "pivo = A[0, 0]\n",
    "fator = A[1, 0]/pivo\n",
    "A[1,:] = A[1,:] - fator*A[0,:]\n",
    "\n",
    "print(A)"
   ]
  },
  {
   "cell_type": "code",
   "execution_count": 41,
   "id": "7b49bd91-d683-4acb-a16f-037a4ce0f95c",
   "metadata": {},
   "outputs": [
    {
     "name": "stdout",
     "output_type": "stream",
     "text": [
      "[[   7    1    3    1  -40]\n",
      " [   0   -7   -1    3  -25]\n",
      " [   0  -35   -9   22  -59]\n",
      " [  28  -38   -2   39 -160]]\n"
     ]
    }
   ],
   "source": [
    "pivo = A[0, 0]\n",
    "fator = A[2, 0]/pivo\n",
    "A[2,:] = A[2,:] - fator*A[0,:]\n",
    "\n",
    "print(A)"
   ]
  },
  {
   "cell_type": "code",
   "execution_count": 42,
   "id": "7c74b136-5996-4056-9e07-4fb578b6bc93",
   "metadata": {},
   "outputs": [
    {
     "name": "stdout",
     "output_type": "stream",
     "text": [
      "[[  7   1   3   1 -40]\n",
      " [  0  -7  -1   3 -25]\n",
      " [  0 -35  -9  22 -59]\n",
      " [  0 -42 -14  35   0]]\n"
     ]
    }
   ],
   "source": [
    "pivo = A[0, 0]\n",
    "fator = A[3, 0]/pivo\n",
    "A[3,:] = A[3,:] - fator*A[0,:]\n",
    "\n",
    "print(A)"
   ]
  },
  {
   "cell_type": "code",
   "execution_count": 43,
   "id": "1d52981c-d471-4c84-98a3-08da2ed03aa5",
   "metadata": {},
   "outputs": [
    {
     "name": "stdout",
     "output_type": "stream",
     "text": [
      "[[  7   1   3   1 -40]\n",
      " [  0  -7  -1   3 -25]\n",
      " [  0   0  -4   7  66]\n",
      " [  0 -42 -14  35   0]]\n"
     ]
    }
   ],
   "source": [
    "pivo = A[1, 1]\n",
    "fator = A[2, 1]/pivo\n",
    "A[2,:] = A[2,:] - fator*A[1,:]\n",
    "\n",
    "print(A)"
   ]
  },
  {
   "cell_type": "code",
   "execution_count": 44,
   "id": "808407fc-2b7a-46e2-b16e-dc6991f0ed91",
   "metadata": {},
   "outputs": [
    {
     "name": "stdout",
     "output_type": "stream",
     "text": [
      "[[  7   1   3   1 -40]\n",
      " [  0  -7  -1   3 -25]\n",
      " [  0   0  -4   7  66]\n",
      " [  0   0  -8  17 150]]\n"
     ]
    }
   ],
   "source": [
    "pivo = A[1, 1]\n",
    "fator = A[3, 1]/pivo\n",
    "A[3,:] = A[3,:] - fator*A[1,:]\n",
    "\n",
    "print(A)"
   ]
  },
  {
   "cell_type": "code",
   "execution_count": 45,
   "id": "0e4cfb9d-42e3-4567-ba41-140c35792536",
   "metadata": {},
   "outputs": [
    {
     "name": "stdout",
     "output_type": "stream",
     "text": [
      "[[  7   1   3   1 -40]\n",
      " [  0  -7  -1   3 -25]\n",
      " [  0   0  -4   7  66]\n",
      " [  0   0   0   3  18]]\n"
     ]
    }
   ],
   "source": [
    "pivo = A[2, 2]\n",
    "fator = A[3,2]/pivo\n",
    "A[3,:] = A[3,:] - fator*A[2,:]\n",
    "\n",
    "print(A)"
   ]
  }
 ],
 "metadata": {
  "kernelspec": {
   "display_name": "Python 3 (ipykernel)",
   "language": "python",
   "name": "python3"
  },
  "language_info": {
   "codemirror_mode": {
    "name": "ipython",
    "version": 3
   },
   "file_extension": ".py",
   "mimetype": "text/x-python",
   "name": "python",
   "nbconvert_exporter": "python",
   "pygments_lexer": "ipython3",
   "version": "3.11.5"
  }
 },
 "nbformat": 4,
 "nbformat_minor": 5
}
