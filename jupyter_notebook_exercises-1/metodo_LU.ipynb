{
 "cells": [
  {
   "cell_type": "markdown",
   "id": "954639b2-a00e-4304-9170-07635e2d41a4",
   "metadata": {},
   "source": [
    "# Decomposição LU"
   ]
  },
  {
   "cell_type": "code",
   "execution_count": 24,
   "id": "e29611ce-a961-481e-89c4-992ca69ac67b",
   "metadata": {},
   "outputs": [],
   "source": [
    "import numpy as np"
   ]
  },
  {
   "cell_type": "markdown",
   "id": "060d0ae3-cab5-4033-bb87-a7307e9ff8ed",
   "metadata": {},
   "source": [
    "### Nota: símbolo @ é usado para multiplicação de matrizes"
   ]
  },
  {
   "cell_type": "code",
   "execution_count": 32,
   "id": "7eed113e-0caf-43b7-9209-3d2c5df1ddaa",
   "metadata": {},
   "outputs": [],
   "source": [
    "A = np.array([\n",
    "[ 3, -4, -6],\n",
    "[ 18, -21, -33],\n",
    "[12, -10, -22 ]\n",
    "])\n",
    "\n",
    "copiaA = np.copy(A)\n",
    "\n",
    "b = np.array([\n",
    "    [25],\n",
    "    [141],\n",
    "    [66]\n",
    "])\n",
    "\n",
    "def sistemaTriangularSuperior(U, y):\n",
    "    n, nc = np.shape(U)\n",
    "    x = np.zeros((n, 1))\n",
    "    for i in range(n-1, -1, -1):\n",
    "        x[i,0] = (y[i,0] - U[i,i:n]@x[i:n,0])/U[i,i]\n",
    "    return x\n",
    "\n",
    "def sistemaTriangularInferior(L, b):\n",
    "    n, nc = np.shape(L)\n",
    "    x = np.zeros((n, 1))\n",
    "    x[0,0] = b[0,0]/L[0,0]\n",
    "    for i in range(1,n):\n",
    "        x[i,0] = (b[i,0] - L[i,0:i]@x[0:i,0])/L[i,i]\n",
    "    return x\n",
    "\n",
    "def decomposicaoLU(A) :\n",
    "    n,_ = np.shape(A)\n",
    "    L = np.eye(n) # Cria matriz identidade \n",
    "    for j in range(n - 1):\n",
    "        pivo = A[j,j]\n",
    "        for i in range(j + 1, n):\n",
    "            fator = A[i,j]/pivo\n",
    "            L[i,j] = fator\n",
    "            A[i,0:] = A[i,0:] - fator*A[j,0:]\n",
    "    U = A\n",
    "    return (L, U)\n",
    "\n",
    "def metodoLU(A,b):\n",
    "    L, U = decomposicaoLU(A)\n",
    "    y = sistemaTriangularInferior(L, b)\n",
    "    x = sistemaTriangularSuperior(U, y)\n",
    "    return x\n",
    "\n",
    "x = metodoLU(A, b)\n",
    "\n",
    "\n"
   ]
  },
  {
   "cell_type": "code",
   "execution_count": 33,
   "id": "0c1a9978-eda6-4ea8-b8c3-16cb5b029c7a",
   "metadata": {},
   "outputs": [
    {
     "name": "stdout",
     "output_type": "stream",
     "text": [
      "Solução do sistema: \n",
      " [[ 7.]\n",
      " [-7.]\n",
      " [ 4.]]\n"
     ]
    }
   ],
   "source": [
    "print('Solução do sistema: \\n', x)"
   ]
  },
  {
   "cell_type": "code",
   "execution_count": 34,
   "id": "1e113aef-1bfe-4760-9041-52962401104b",
   "metadata": {},
   "outputs": [
    {
     "name": "stdout",
     "output_type": "stream",
     "text": [
      "Imprimindo o valor de Ax que deve ser igual a b: \n",
      " [[ 25.]\n",
      " [141.]\n",
      " [ 66.]]\n"
     ]
    }
   ],
   "source": [
    "print('Imprimindo o valor de Ax que deve ser igual a b: \\n', copiaA@x)"
   ]
  }
 ],
 "metadata": {
  "kernelspec": {
   "display_name": "Python 3 (ipykernel)",
   "language": "python",
   "name": "python3"
  },
  "language_info": {
   "codemirror_mode": {
    "name": "ipython",
    "version": 3
   },
   "file_extension": ".py",
   "mimetype": "text/x-python",
   "name": "python",
   "nbconvert_exporter": "python",
   "pygments_lexer": "ipython3",
   "version": "3.11.5"
  }
 },
 "nbformat": 4,
 "nbformat_minor": 5
}
